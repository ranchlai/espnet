{
 "cells": [
  {
   "cell_type": "code",
   "execution_count": 57,
   "metadata": {},
   "outputs": [],
   "source": [
    "import os\n",
    "\n",
    "import pypinyin\n",
    "with open('./data/text_scp.txt') as f:\n",
    "    lines = f.read().split('\\n')\n",
    "text = [line.split()[1] for line in lines]\n",
    "vocab = list(set(''.join(text)))\n",
    "vocab = sorted(vocab,key=lambda x: pypinyin.pinyin(x)[0][0])\n",
    "non_ling = ['—', '“', '”', '…', '‰', '〈', '〉', '・', '\\uf06c', '：', 'Ａ', 'Ｊ', 'ｙ','#','-']\n",
    "\n",
    "vocab = [v for v in vocab if v not in non_ling]\n",
    "vocab = ['<blank>','<unk>'] + vocab\n",
    "with open('./data/token.txt','wt') as f:\n",
    "    f.write('\\n'.join(vocab))\n",
    "    \n",
    "with open('./data/non_ling.txt','wt') as f:\n",
    "    f.write('\\n'.join(non_ling))"
   ]
  },
  {
   "cell_type": "code",
   "execution_count": 58,
   "metadata": {},
   "outputs": [],
   "source": [
    "with open('./data/wav_scp.txt') as f:\n",
    "    lines = f.read().split('\\n')\n",
    "wav_shape = []\n",
    "for line in lines:\n",
    "    key, f = line.split()\n",
    "    wav_shape += [key + ' ' + str(os.path.getsize(f))]\n",
    "with open('./data/wav_shape.txt','wt') as f:\n",
    "    f.write('\\n'.join(wav_shape))"
   ]
  },
  {
   "cell_type": "code",
   "execution_count": 59,
   "metadata": {},
   "outputs": [],
   "source": [
    "with open('./data/text_scp.txt') as f:\n",
    "    lines = f.read().split('\\n')\n",
    "txt_shape = []\n",
    "for line in lines:\n",
    "    key = line.split()[0]\n",
    "    txt = ''.join(line.split()[1:])\n",
    "    txt_shape += [key + ' ' + str(len(txt))]\n",
    "with open('./data/txt_shape.txt','wt') as f:\n",
    "    f.write('\\n'.join(txt_shape))"
   ]
  },
  {
   "cell_type": "code",
   "execution_count": 60,
   "metadata": {},
   "outputs": [
    {
     "data": {
      "text/plain": [
       "['00186302', '标兵四尺的人间']"
      ]
     },
     "execution_count": 60,
     "metadata": {},
     "output_type": "execute_result"
    }
   ],
   "source": [
    "line.split(' ')"
   ]
  },
  {
   "cell_type": "code",
   "execution_count": null,
   "metadata": {},
   "outputs": [],
   "source": []
  }
 ],
 "metadata": {
  "kernelspec": {
   "display_name": "Python 3.7.11 64-bit ('py37': conda)",
   "language": "python",
   "name": "python3711jvsc74a57bd02240e846b8afbc3de37c8531a330fcef246bdd4918aa70cd4a33229c2cb62a5e"
  },
  "language_info": {
   "codemirror_mode": {
    "name": "ipython",
    "version": 3
   },
   "file_extension": ".py",
   "mimetype": "text/x-python",
   "name": "python",
   "nbconvert_exporter": "python",
   "pygments_lexer": "ipython3",
   "version": "3.7.11"
  }
 },
 "nbformat": 4,
 "nbformat_minor": 4
}
